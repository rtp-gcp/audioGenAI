{
 "cells": [
  {
   "cell_type": "code",
   "execution_count": 1,
   "metadata": {},
   "outputs": [
    {
     "name": "stdout",
     "output_type": "stream",
     "text": [
      "Requirement already satisfied: google-cloud-aiplatform in /Users/davis/progs/audioGenAI/.venv/lib/python3.12/site-packages (from -r requirements.txt (line 1)) (1.52.0)\n",
      "Requirement already satisfied: python-dotenv in /Users/davis/progs/audioGenAI/.venv/lib/python3.12/site-packages (from -r requirements.txt (line 4)) (1.0.1)\n",
      "Requirement already satisfied: google-api-core!=2.0.*,!=2.1.*,!=2.2.*,!=2.3.*,!=2.4.*,!=2.5.*,!=2.6.*,!=2.7.*,<3.0.0dev,>=1.34.1 in /Users/davis/progs/audioGenAI/.venv/lib/python3.12/site-packages (from google-api-core[grpc]!=2.0.*,!=2.1.*,!=2.2.*,!=2.3.*,!=2.4.*,!=2.5.*,!=2.6.*,!=2.7.*,<3.0.0dev,>=1.34.1->google-cloud-aiplatform->-r requirements.txt (line 1)) (2.19.0)\n",
      "Requirement already satisfied: google-auth<3.0.0dev,>=2.14.1 in /Users/davis/progs/audioGenAI/.venv/lib/python3.12/site-packages (from google-cloud-aiplatform->-r requirements.txt (line 1)) (2.29.0)\n",
      "Requirement already satisfied: proto-plus<2.0.0dev,>=1.22.0 in /Users/davis/progs/audioGenAI/.venv/lib/python3.12/site-packages (from google-cloud-aiplatform->-r requirements.txt (line 1)) (1.23.0)\n",
      "Requirement already satisfied: protobuf!=3.20.0,!=3.20.1,!=4.21.0,!=4.21.1,!=4.21.2,!=4.21.3,!=4.21.4,!=4.21.5,<5.0.0dev,>=3.19.5 in /Users/davis/progs/audioGenAI/.venv/lib/python3.12/site-packages (from google-cloud-aiplatform->-r requirements.txt (line 1)) (4.25.3)\n",
      "Requirement already satisfied: packaging>=14.3 in /Users/davis/progs/audioGenAI/.venv/lib/python3.12/site-packages (from google-cloud-aiplatform->-r requirements.txt (line 1)) (24.0)\n",
      "Requirement already satisfied: google-cloud-storage<3.0.0dev,>=1.32.0 in /Users/davis/progs/audioGenAI/.venv/lib/python3.12/site-packages (from google-cloud-aiplatform->-r requirements.txt (line 1)) (2.16.0)\n",
      "Requirement already satisfied: google-cloud-bigquery!=3.20.0,<4.0.0dev,>=1.15.0 in /Users/davis/progs/audioGenAI/.venv/lib/python3.12/site-packages (from google-cloud-aiplatform->-r requirements.txt (line 1)) (3.23.1)\n",
      "Requirement already satisfied: google-cloud-resource-manager<3.0.0dev,>=1.3.3 in /Users/davis/progs/audioGenAI/.venv/lib/python3.12/site-packages (from google-cloud-aiplatform->-r requirements.txt (line 1)) (1.12.3)\n",
      "Requirement already satisfied: shapely<3.0.0dev in /Users/davis/progs/audioGenAI/.venv/lib/python3.12/site-packages (from google-cloud-aiplatform->-r requirements.txt (line 1)) (2.0.4)\n",
      "Requirement already satisfied: pydantic<3 in /Users/davis/progs/audioGenAI/.venv/lib/python3.12/site-packages (from google-cloud-aiplatform->-r requirements.txt (line 1)) (2.7.1)\n",
      "Requirement already satisfied: docstring-parser<1 in /Users/davis/progs/audioGenAI/.venv/lib/python3.12/site-packages (from google-cloud-aiplatform->-r requirements.txt (line 1)) (0.16)\n",
      "Requirement already satisfied: googleapis-common-protos<2.0.dev0,>=1.56.2 in /Users/davis/progs/audioGenAI/.venv/lib/python3.12/site-packages (from google-api-core!=2.0.*,!=2.1.*,!=2.2.*,!=2.3.*,!=2.4.*,!=2.5.*,!=2.6.*,!=2.7.*,<3.0.0dev,>=1.34.1->google-api-core[grpc]!=2.0.*,!=2.1.*,!=2.2.*,!=2.3.*,!=2.4.*,!=2.5.*,!=2.6.*,!=2.7.*,<3.0.0dev,>=1.34.1->google-cloud-aiplatform->-r requirements.txt (line 1)) (1.63.0)\n",
      "Requirement already satisfied: requests<3.0.0.dev0,>=2.18.0 in /Users/davis/progs/audioGenAI/.venv/lib/python3.12/site-packages (from google-api-core!=2.0.*,!=2.1.*,!=2.2.*,!=2.3.*,!=2.4.*,!=2.5.*,!=2.6.*,!=2.7.*,<3.0.0dev,>=1.34.1->google-api-core[grpc]!=2.0.*,!=2.1.*,!=2.2.*,!=2.3.*,!=2.4.*,!=2.5.*,!=2.6.*,!=2.7.*,<3.0.0dev,>=1.34.1->google-cloud-aiplatform->-r requirements.txt (line 1)) (2.32.2)\n",
      "Requirement already satisfied: grpcio<2.0dev,>=1.33.2 in /Users/davis/progs/audioGenAI/.venv/lib/python3.12/site-packages (from google-api-core[grpc]!=2.0.*,!=2.1.*,!=2.2.*,!=2.3.*,!=2.4.*,!=2.5.*,!=2.6.*,!=2.7.*,<3.0.0dev,>=1.34.1->google-cloud-aiplatform->-r requirements.txt (line 1)) (1.64.0)\n",
      "Requirement already satisfied: grpcio-status<2.0.dev0,>=1.33.2 in /Users/davis/progs/audioGenAI/.venv/lib/python3.12/site-packages (from google-api-core[grpc]!=2.0.*,!=2.1.*,!=2.2.*,!=2.3.*,!=2.4.*,!=2.5.*,!=2.6.*,!=2.7.*,<3.0.0dev,>=1.34.1->google-cloud-aiplatform->-r requirements.txt (line 1)) (1.62.2)\n",
      "Requirement already satisfied: cachetools<6.0,>=2.0.0 in /Users/davis/progs/audioGenAI/.venv/lib/python3.12/site-packages (from google-auth<3.0.0dev,>=2.14.1->google-cloud-aiplatform->-r requirements.txt (line 1)) (5.3.3)\n",
      "Requirement already satisfied: pyasn1-modules>=0.2.1 in /Users/davis/progs/audioGenAI/.venv/lib/python3.12/site-packages (from google-auth<3.0.0dev,>=2.14.1->google-cloud-aiplatform->-r requirements.txt (line 1)) (0.4.0)\n",
      "Requirement already satisfied: rsa<5,>=3.1.4 in /Users/davis/progs/audioGenAI/.venv/lib/python3.12/site-packages (from google-auth<3.0.0dev,>=2.14.1->google-cloud-aiplatform->-r requirements.txt (line 1)) (4.9)\n",
      "Requirement already satisfied: google-cloud-core<3.0.0dev,>=1.6.0 in /Users/davis/progs/audioGenAI/.venv/lib/python3.12/site-packages (from google-cloud-bigquery!=3.20.0,<4.0.0dev,>=1.15.0->google-cloud-aiplatform->-r requirements.txt (line 1)) (2.4.1)\n",
      "Requirement already satisfied: google-resumable-media<3.0dev,>=0.6.0 in /Users/davis/progs/audioGenAI/.venv/lib/python3.12/site-packages (from google-cloud-bigquery!=3.20.0,<4.0.0dev,>=1.15.0->google-cloud-aiplatform->-r requirements.txt (line 1)) (2.7.0)\n",
      "Requirement already satisfied: python-dateutil<3.0dev,>=2.7.2 in /Users/davis/progs/audioGenAI/.venv/lib/python3.12/site-packages (from google-cloud-bigquery!=3.20.0,<4.0.0dev,>=1.15.0->google-cloud-aiplatform->-r requirements.txt (line 1)) (2.9.0.post0)\n",
      "Requirement already satisfied: grpc-google-iam-v1<1.0.0dev,>=0.12.4 in /Users/davis/progs/audioGenAI/.venv/lib/python3.12/site-packages (from google-cloud-resource-manager<3.0.0dev,>=1.3.3->google-cloud-aiplatform->-r requirements.txt (line 1)) (0.13.0)\n",
      "Requirement already satisfied: google-crc32c<2.0dev,>=1.0 in /Users/davis/progs/audioGenAI/.venv/lib/python3.12/site-packages (from google-cloud-storage<3.0.0dev,>=1.32.0->google-cloud-aiplatform->-r requirements.txt (line 1)) (1.5.0)\n",
      "Requirement already satisfied: annotated-types>=0.4.0 in /Users/davis/progs/audioGenAI/.venv/lib/python3.12/site-packages (from pydantic<3->google-cloud-aiplatform->-r requirements.txt (line 1)) (0.7.0)\n",
      "Requirement already satisfied: pydantic-core==2.18.2 in /Users/davis/progs/audioGenAI/.venv/lib/python3.12/site-packages (from pydantic<3->google-cloud-aiplatform->-r requirements.txt (line 1)) (2.18.2)\n",
      "Requirement already satisfied: typing-extensions>=4.6.1 in /Users/davis/progs/audioGenAI/.venv/lib/python3.12/site-packages (from pydantic<3->google-cloud-aiplatform->-r requirements.txt (line 1)) (4.12.0)\n",
      "Requirement already satisfied: numpy<3,>=1.14 in /Users/davis/progs/audioGenAI/.venv/lib/python3.12/site-packages (from shapely<3.0.0dev->google-cloud-aiplatform->-r requirements.txt (line 1)) (1.26.4)\n",
      "Requirement already satisfied: pyasn1<0.7.0,>=0.4.6 in /Users/davis/progs/audioGenAI/.venv/lib/python3.12/site-packages (from pyasn1-modules>=0.2.1->google-auth<3.0.0dev,>=2.14.1->google-cloud-aiplatform->-r requirements.txt (line 1)) (0.6.0)\n",
      "Requirement already satisfied: six>=1.5 in /Users/davis/progs/audioGenAI/.venv/lib/python3.12/site-packages (from python-dateutil<3.0dev,>=2.7.2->google-cloud-bigquery!=3.20.0,<4.0.0dev,>=1.15.0->google-cloud-aiplatform->-r requirements.txt (line 1)) (1.16.0)\n",
      "Requirement already satisfied: charset-normalizer<4,>=2 in /Users/davis/progs/audioGenAI/.venv/lib/python3.12/site-packages (from requests<3.0.0.dev0,>=2.18.0->google-api-core!=2.0.*,!=2.1.*,!=2.2.*,!=2.3.*,!=2.4.*,!=2.5.*,!=2.6.*,!=2.7.*,<3.0.0dev,>=1.34.1->google-api-core[grpc]!=2.0.*,!=2.1.*,!=2.2.*,!=2.3.*,!=2.4.*,!=2.5.*,!=2.6.*,!=2.7.*,<3.0.0dev,>=1.34.1->google-cloud-aiplatform->-r requirements.txt (line 1)) (3.3.2)\n",
      "Requirement already satisfied: idna<4,>=2.5 in /Users/davis/progs/audioGenAI/.venv/lib/python3.12/site-packages (from requests<3.0.0.dev0,>=2.18.0->google-api-core!=2.0.*,!=2.1.*,!=2.2.*,!=2.3.*,!=2.4.*,!=2.5.*,!=2.6.*,!=2.7.*,<3.0.0dev,>=1.34.1->google-api-core[grpc]!=2.0.*,!=2.1.*,!=2.2.*,!=2.3.*,!=2.4.*,!=2.5.*,!=2.6.*,!=2.7.*,<3.0.0dev,>=1.34.1->google-cloud-aiplatform->-r requirements.txt (line 1)) (3.7)\n",
      "Requirement already satisfied: urllib3<3,>=1.21.1 in /Users/davis/progs/audioGenAI/.venv/lib/python3.12/site-packages (from requests<3.0.0.dev0,>=2.18.0->google-api-core!=2.0.*,!=2.1.*,!=2.2.*,!=2.3.*,!=2.4.*,!=2.5.*,!=2.6.*,!=2.7.*,<3.0.0dev,>=1.34.1->google-api-core[grpc]!=2.0.*,!=2.1.*,!=2.2.*,!=2.3.*,!=2.4.*,!=2.5.*,!=2.6.*,!=2.7.*,<3.0.0dev,>=1.34.1->google-cloud-aiplatform->-r requirements.txt (line 1)) (2.2.1)\n",
      "Requirement already satisfied: certifi>=2017.4.17 in /Users/davis/progs/audioGenAI/.venv/lib/python3.12/site-packages (from requests<3.0.0.dev0,>=2.18.0->google-api-core!=2.0.*,!=2.1.*,!=2.2.*,!=2.3.*,!=2.4.*,!=2.5.*,!=2.6.*,!=2.7.*,<3.0.0dev,>=1.34.1->google-api-core[grpc]!=2.0.*,!=2.1.*,!=2.2.*,!=2.3.*,!=2.4.*,!=2.5.*,!=2.6.*,!=2.7.*,<3.0.0dev,>=1.34.1->google-cloud-aiplatform->-r requirements.txt (line 1)) (2024.2.2)\n"
     ]
    }
   ],
   "source": [
    "%%bash\n",
    "#pip install --upgrade google-cloud-aiplatform\n",
    "pip install --upgrade -r requirements.txt"
   ]
  },
  {
   "cell_type": "code",
   "execution_count": 2,
   "metadata": {},
   "outputs": [],
   "source": [
    "# Import the os package\n",
    "import os\n",
    "\n",
    "\n",
    "# Imports via openai docs\n",
    "from pathlib import Path\n",
    "\n",
    "\n",
    "# import the dotenv package\n",
    "from dotenv import load_dotenv\n",
    "\n",
    "import pprint\n",
    "\n",
    "# From the IPython.display package, import display and Markdown\n",
    "from IPython.display import display, Markdown"
   ]
  },
  {
   "cell_type": "code",
   "execution_count": 3,
   "metadata": {},
   "outputs": [
    {
     "data": {
      "text/plain": [
       "True"
      ]
     },
     "execution_count": 3,
     "metadata": {},
     "output_type": "execute_result"
    }
   ],
   "source": [
    "# Get the current working directory\n",
    "cwd = os.getcwd()\n",
    "# Construct the .env file path\n",
    "env_path = os.path.join(cwd, '.env')\n",
    "\n",
    "# Load the .env file\n",
    "load_dotenv(dotenv_path=env_path)"
   ]
  },
  {
   "cell_type": "code",
   "execution_count": null,
   "metadata": {},
   "outputs": [],
   "source": []
  },
  {
   "cell_type": "code",
   "execution_count": 5,
   "metadata": {},
   "outputs": [],
   "source": [
    "def init_sample(\n",
    "    project = None,\n",
    "    location = None,\n",
    "    experiment = None,\n",
    "    staging_bucket = None,\n",
    "    credentials = None,\n",
    "    encryption_spec_key_name = None,\n",
    "    service_account = None,\n",
    "):\n",
    "\n",
    "    from google.cloud import aiplatform\n",
    "\n",
    "    aiplatform.init(\n",
    "        project=project,\n",
    "        location=location,\n",
    "        experiment=experiment,\n",
    "        staging_bucket=staging_bucket,\n",
    "        credentials=credentials,\n",
    "        encryption_spec_key_name=encryption_spec_key_name,\n",
    "        service_account=service_account,\n",
    "    )\n",
    "\n",
    "init_sample(\n",
    "    project=os.environ[\"GCP_PROJ_ID\"],\n",
    "    location=os.environ[\"GCP_LOCATION\"],\n",
    "    experiment=None,\n",
    "    staging_bucket=os.environ[\"GCP_BUCKET\"],\n",
    "    credentials=os.environ[\"GOOGLE_APPLICATION_CREDENTIALS\"],\n",
    "    encryption_spec_key_name=None,\n",
    "    service_account=os.environ[\"GCP_SA\"],\n",
    " )\n"
   ]
  },
  {
   "cell_type": "code",
   "execution_count": null,
   "metadata": {},
   "outputs": [],
   "source": [
    "import os\n",
    "\n",
    "import google.generativeai as genai\n",
    "\n",
    "genai.configure(api_key=os.environ[\"GEMINI_API_KEY\"])"
   ]
  }
 ],
 "metadata": {
  "kernelspec": {
   "display_name": ".venv",
   "language": "python",
   "name": "python3"
  },
  "language_info": {
   "codemirror_mode": {
    "name": "ipython",
    "version": 3
   },
   "file_extension": ".py",
   "mimetype": "text/x-python",
   "name": "python",
   "nbconvert_exporter": "python",
   "pygments_lexer": "ipython3",
   "version": "3.12.3"
  }
 },
 "nbformat": 4,
 "nbformat_minor": 2
}
